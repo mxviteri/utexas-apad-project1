{
 "cells": [
  {
   "cell_type": "markdown",
   "metadata": {},
   "source": [
    "## Events\n",
    "\n",
    "This is the base notebook for phase1 of the APAD project.\n",
    "\n",
    "It develops the data model in Sqlite and presents utilty functions in Python for interacting with the DB."
   ]
  },
  {
   "cell_type": "markdown",
   "metadata": {},
   "source": [
    "#### Setup"
   ]
  },
  {
   "cell_type": "code",
   "execution_count": 10,
   "metadata": {},
   "outputs": [
    {
     "name": "stdout",
     "output_type": "stream",
     "text": [
      "Current time: 19:26:31 \n",
      "\n"
     ]
    }
   ],
   "source": [
    "from datetime import datetime\n",
    "# Our custom module: interactions\n",
    "import interactions as it\n",
    "\n",
    "# We will use the current time in multiple functions below\n",
    "current = datetime.now().strftime(\"%H:%M:%S\")\n",
    "print('Current time:', current, '\\n')\n",
    "sampleTime = '08:13:00'"
   ]
  },
  {
   "cell_type": "markdown",
   "metadata": {},
   "source": [
    "#### 4. Display timeslot availability at a venue\n",
    "\n",
    "Use the `getTimeslotsByVenue` function to retrieve a list of all open timeslots at that venue."
   ]
  },
  {
   "cell_type": "code",
   "execution_count": 11,
   "metadata": {},
   "outputs": [
    {
     "name": "stdout",
     "output_type": "stream",
     "text": [
      "['08:00:00', '09:00:00', '10:00:00', '11:00:00', '12:00:00', '14:00:00', '16:00:00']\n"
     ]
    }
   ],
   "source": [
    "timeslots = it.getTimeslotsByVenue('atrium', sampleTime)\n",
    "print(timeslots)"
   ]
  },
  {
   "cell_type": "markdown",
   "metadata": {},
   "source": [
    "#### 5. Display all venues where a particular timeslot is available\n",
    "\n",
    "Use the `getVenuesByTimeslot` function to retrieve a list of venues with availability at the specified timeslot."
   ]
  },
  {
   "cell_type": "code",
   "execution_count": 12,
   "metadata": {},
   "outputs": [
    {
     "name": "stdout",
     "output_type": "stream",
     "text": [
      "['atrium']\n"
     ]
    }
   ],
   "source": [
    "venues = it.getVenuesByTimeslot(sampleTime)\n",
    "print(venues)"
   ]
  },
  {
   "cell_type": "markdown",
   "metadata": {},
   "source": [
    "#### Bonus: Search all venues for available time slots (combines 4 & 5)\n",
    "\n",
    "This is actually the base function used in operations 4 & 5, above. We will use the `searchTimeslots` function to lookup availability on or after the time specified. Normally this will be the current time but you can enter a specifc string as well."
   ]
  },
  {
   "cell_type": "code",
   "execution_count": 13,
   "metadata": {},
   "outputs": [
    {
     "name": "stdout",
     "output_type": "stream",
     "text": [
      "Venue: atrium \n",
      " ['08:00:00', '09:00:00', '10:00:00', '11:00:00', '12:00:00', '14:00:00', '16:00:00'] \n",
      "\n"
     ]
    }
   ],
   "source": [
    "timeslots = it.searchTimeslots(sampleTime)\n",
    "\n",
    "if len(timeslots):\n",
    "    for t in timeslots:\n",
    "        print('Venue:', t, '\\n', timeslots[t], '\\n')\n",
    "else:\n",
    "    print('No available timeslots')"
   ]
  }
 ],
 "metadata": {
  "kernelspec": {
   "display_name": "Python 3",
   "language": "python",
   "name": "python3"
  },
  "language_info": {
   "codemirror_mode": {
    "name": "ipython",
    "version": 3
   },
   "file_extension": ".py",
   "mimetype": "text/x-python",
   "name": "python",
   "nbconvert_exporter": "python",
   "pygments_lexer": "ipython3",
   "version": "3.7.4"
  }
 },
 "nbformat": 4,
 "nbformat_minor": 2
}
