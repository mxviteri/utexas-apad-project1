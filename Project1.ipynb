{
 "cells": [
  {
   "cell_type": "markdown",
   "metadata": {},
   "source": [
    "## Events\n",
    "\n",
    "This is the base notebook for phase1 of the APAD project.\n",
    "\n",
    "It develops the data model in Sqlite and presents utilty functions in Python for interacting with the DB."
   ]
  },
  {
   "cell_type": "markdown",
   "metadata": {},
   "source": [
    "#### Setup"
   ]
  },
  {
   "cell_type": "code",
   "execution_count": 9,
   "metadata": {},
   "outputs": [],
   "source": [
    "from datetime import datetime\n",
    "# Our custom module: interactions\n",
    "import interactions as it"
   ]
  },
  {
   "cell_type": "markdown",
   "metadata": {},
   "source": [
    "#### Search Venues for available time slots\n",
    "\n",
    "We will use the `searchTimeslots` function to lookup availability on or after the time specified. Normally this will be the current time but you can enter a specifc string as well."
   ]
  },
  {
   "cell_type": "code",
   "execution_count": 20,
   "metadata": {},
   "outputs": [
    {
     "name": "stdout",
     "output_type": "stream",
     "text": [
      "Current time: 18:36:41 \n",
      "\n",
      "Venue: atrium \n",
      " ['08:00:00', '09:00:00', '10:00:00', '11:00:00', '12:00:00', '14:00:00', '16:00:00'] \n",
      "\n"
     ]
    }
   ],
   "source": [
    "current = datetime.now().strftime(\"%H:%M:%S\")\n",
    "print('Current time:', current, '\\n')\n",
    "\n",
    "timeslots = it.searchTimeslots('08:13:00')\n",
    "\n",
    "if len(timeslots):\n",
    "    for t in timeslots:\n",
    "        print('Venue:', t, '\\n', timeslots[t], '\\n')\n",
    "else:\n",
    "    print('No available timeslots')"
   ]
  }
 ],
 "metadata": {
  "kernelspec": {
   "display_name": "Python 3",
   "language": "python",
   "name": "python3"
  },
  "language_info": {
   "codemirror_mode": {
    "name": "ipython",
    "version": 3
   },
   "file_extension": ".py",
   "mimetype": "text/x-python",
   "name": "python",
   "nbconvert_exporter": "python",
   "pygments_lexer": "ipython3",
   "version": "3.7.3"
  }
 },
 "nbformat": 4,
 "nbformat_minor": 2
}
