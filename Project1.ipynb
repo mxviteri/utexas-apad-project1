{
 "cells": [
  {
   "cell_type": "markdown",
   "metadata": {},
   "source": [
    "## Events\n",
    "\n",
    "This is the base notebook for phase1 of the APAD project.\n",
    "\n",
    "It develops the data model in Sqlite and presents utilty functions in Python for interacting with the DB."
   ]
  },
  {
   "cell_type": "markdown",
   "metadata": {},
   "source": [
    "#### Setup"
   ]
  },
  {
   "cell_type": "code",
   "execution_count": 1,
   "metadata": {},
   "outputs": [
    {
     "name": "stdout",
     "output_type": "stream",
     "text": [
      "Current time: 21:47:11 \n",
      "\n"
     ]
    }
   ],
   "source": [
    "from datetime import datetime\n",
    "# Our custom module: interactions\n",
    "import interactions as it\n",
    "\n",
    "# We will use the current time in multiple functions below\n",
    "current = datetime.now().strftime(\"%H:%M:%S\")\n",
    "print('Current time:', current, '\\n')\n",
    "sampleTime = '08:13:00'"
   ]
  },
  {
   "cell_type": "markdown",
   "metadata": {},
   "source": [
    "#### 1. Add a new user\n",
    "\n",
    "Created the `addUser` function to add a new user and specify their role as an admin or end-user"
   ]
  },
  {
   "cell_type": "code",
   "execution_count": 9,
   "metadata": {
    "scrolled": true
   },
   "outputs": [
    {
     "name": "stdout",
     "output_type": "stream",
     "text": [
      "User not added. Username taken.\n"
     ]
    }
   ],
   "source": [
    "it.addUser(\"Susan\", 2) # Role is represented by an integer and defined in the `roles` table"
   ]
  },
  {
   "cell_type": "markdown",
   "metadata": {},
   "source": [
    "We can confirm the user was added using the `findUser` function"
   ]
  },
  {
   "cell_type": "code",
   "execution_count": 10,
   "metadata": {},
   "outputs": [
    {
     "name": "stdout",
     "output_type": "stream",
     "text": [
      "(3, 'Susan', 2, None)\n"
     ]
    }
   ],
   "source": [
    "user = it.findUser(\"Susan\")\n",
    "if user:\n",
    "    print(user)\n",
    "else:\n",
    "    print(\"Not found\")"
   ]
  },
  {
   "cell_type": "markdown",
   "metadata": {},
   "source": [
    "#### 2. Add a new venue\n",
    "\n",
    "Function `addVenue` adds a new venue to host events"
   ]
  },
  {
   "cell_type": "code",
   "execution_count": 4,
   "metadata": {},
   "outputs": [
    {
     "name": "stdout",
     "output_type": "stream",
     "text": [
      "Venue Intramural Fields has been added succesfully.\n"
     ]
    }
   ],
   "source": [
    "it.addVenue(\"Intramural Fields\", \"09:00:00\", \"21:00:00\")"
   ]
  },
  {
   "cell_type": "markdown",
   "metadata": {},
   "source": [
    "We can confirm the venue was added using the `findVenue` function"
   ]
  },
  {
   "cell_type": "code",
   "execution_count": 8,
   "metadata": {},
   "outputs": [
    {
     "name": "stdout",
     "output_type": "stream",
     "text": [
      "(2, 'Intramural Fields', '09:00:00', '21:00:00')\n"
     ]
    }
   ],
   "source": [
    "venue = it.findVenue(\"Intramural Fields\")\n",
    "if venue:\n",
    "    print(venue)\n",
    "else:\n",
    "    print(\"Not found\")"
   ]
  },
  {
   "cell_type": "markdown",
   "metadata": {},
   "source": [
    "#### 4. Display timeslot availability at a venue\n",
    "\n",
    "Use the `getTimeslotsByVenue` function to retrieve a list of all open timeslots at that venue."
   ]
  },
  {
   "cell_type": "code",
   "execution_count": 6,
   "metadata": {},
   "outputs": [
    {
     "name": "stdout",
     "output_type": "stream",
     "text": [
      "['08:00:00', '09:00:00', '10:00:00', '11:00:00', '12:00:00', '13:00:00', '14:00:00', '15:00:00', '16:00:00']\n"
     ]
    }
   ],
   "source": [
    "timeslots = it.getTimeslotsByVenue('atrium', sampleTime)\n",
    "print(timeslots)"
   ]
  },
  {
   "cell_type": "markdown",
   "metadata": {},
   "source": [
    "#### 5. Display all venues where a particular timeslot is available\n",
    "\n",
    "Use the `getVenuesByTimeslot` function to retrieve a list of venues with availability at the specified timeslot."
   ]
  },
  {
   "cell_type": "code",
   "execution_count": 5,
   "metadata": {},
   "outputs": [
    {
     "name": "stdout",
     "output_type": "stream",
     "text": [
      "['atrium']\n"
     ]
    }
   ],
   "source": [
    "venues = it.getVenuesByTimeslot(sampleTime)\n",
    "print(venues)"
   ]
  },
  {
   "cell_type": "markdown",
   "metadata": {},
   "source": [
    "#### Bonus: Search all venues for available time slots (combines 4 & 5)\n",
    "\n",
    "This is actually the base function used in operations 4 & 5, above. We will use the `searchTimeslots` function to lookup availability on or after the time specified. Normally this will be the current time but you can enter a specifc string as well."
   ]
  },
  {
   "cell_type": "code",
   "execution_count": 4,
   "metadata": {},
   "outputs": [
    {
     "name": "stdout",
     "output_type": "stream",
     "text": [
      "Venue: atrium \n",
      " ['08:00:00', '09:00:00', '10:00:00', '11:00:00', '12:00:00', '13:00:00', '14:00:00', '15:00:00', '16:00:00'] \n",
      "\n"
     ]
    }
   ],
   "source": [
    "timeslots = it.searchTimeslots(sampleTime)\n",
    "\n",
    "if len(timeslots):\n",
    "    for t in timeslots:\n",
    "        print('Venue:', t, '\\n', timeslots[t], '\\n')\n",
    "else:\n",
    "    print('No available timeslots')"
   ]
  },
  {
   "cell_type": "markdown",
   "metadata": {},
   "source": [
    "#### 6. List events at a venue given date / time\n",
    "\n",
    "Use the `listEventsByTime` function to retrieve a list of events happening at a certain venue, at a certain time."
   ]
  },
  {
   "cell_type": "code",
   "execution_count": 2,
   "metadata": {},
   "outputs": [
    {
     "name": "stdout",
     "output_type": "stream",
     "text": [
      "['soccer', 'basketball']\n"
     ]
    }
   ],
   "source": [
    "events = it.listEventsByTime('atrium', '13:00:00')\n",
    "\n",
    "print(events)"
   ]
  },
  {
   "cell_type": "markdown",
   "metadata": {},
   "source": [
    "#### 7. User joins an event\n",
    "\n",
    "Use the `joinEvent` function to add a user to an event if the event is not already at capacity."
   ]
  },
  {
   "cell_type": "code",
   "execution_count": 3,
   "metadata": {},
   "outputs": [
    {
     "name": "stdout",
     "output_type": "stream",
     "text": [
      "User added successfully\n"
     ]
    }
   ],
   "source": [
    "print(it.joinEvent('Susan', 'soccer'))"
   ]
  }
 ],
 "metadata": {
  "kernelspec": {
   "display_name": "Python 3",
   "language": "python",
   "name": "python3"
  },
  "language_info": {
   "codemirror_mode": {
    "name": "ipython",
    "version": 3
   },
   "file_extension": ".py",
   "mimetype": "text/x-python",
   "name": "python",
   "nbconvert_exporter": "python",
   "pygments_lexer": "ipython3",
   "version": "3.7.3"
  }
 },
 "nbformat": 4,
 "nbformat_minor": 2
}
